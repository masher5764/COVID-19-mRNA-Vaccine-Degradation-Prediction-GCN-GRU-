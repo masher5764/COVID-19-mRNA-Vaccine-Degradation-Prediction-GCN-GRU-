{
  "nbformat": 4,
  "nbformat_minor": 0,
  "metadata": {
    "colab": {
      "provenance": [],
      "authorship_tag": "ABX9TyONh4skn5mdlJw4QlH187E1",
      "include_colab_link": true
    },
    "kernelspec": {
      "name": "python3",
      "display_name": "Python 3"
    },
    "language_info": {
      "name": "python"
    }
  },
  "cells": [
    {
      "cell_type": "markdown",
      "metadata": {
        "id": "view-in-github",
        "colab_type": "text"
      },
      "source": [
        "<a href=\"https://colab.research.google.com/github/masher5764/COVID-19-mRNA-Vaccine-Degradation-Prediction-GCN-GRU-/blob/main/COVID_19_mRNA_Vaccine_Degradation_Prediction_GCN_GRU.ipynb\" target=\"_parent\"><img src=\"https://colab.research.google.com/assets/colab-badge.svg\" alt=\"Open In Colab\"/></a>"
      ]
    },
    {
      "cell_type": "code",
      "execution_count": null,
      "metadata": {
        "colab": {
          "base_uri": "https://localhost:8080/"
        },
        "id": "fXdxlTmf7DDw",
        "outputId": "e3689678-bcdc-4ae9-8575-71402b701d95"
      },
      "outputs": [
        {
          "output_type": "stream",
          "name": "stdout",
          "text": [
            "Mounted at /content/drive\n"
          ]
        }
      ],
      "source": [
        "from google.colab import drive\n",
        "drive.mount('/content/drive')"
      ]
    },
    {
      "cell_type": "code",
      "source": [
        "from google.colab import files\n",
        "uploaded = files.upload()  # This will prompt you to upload files"
      ],
      "metadata": {
        "colab": {
          "base_uri": "https://localhost:8080/",
          "height": 74
        },
        "id": "7aQWpI5PAB8V",
        "outputId": "5bd21717-7c28-4fd1-ea52-c6f9c0db2c44"
      },
      "execution_count": null,
      "outputs": [
        {
          "output_type": "display_data",
          "data": {
            "text/plain": [
              "<IPython.core.display.HTML object>"
            ],
            "text/html": [
              "\n",
              "     <input type=\"file\" id=\"files-0f75d44c-ea24-4b58-bc69-597b523057f6\" name=\"files[]\" multiple disabled\n",
              "        style=\"border:none\" />\n",
              "     <output id=\"result-0f75d44c-ea24-4b58-bc69-597b523057f6\">\n",
              "      Upload widget is only available when the cell has been executed in the\n",
              "      current browser session. Please rerun this cell to enable.\n",
              "      </output>\n",
              "      <script>// Copyright 2017 Google LLC\n",
              "//\n",
              "// Licensed under the Apache License, Version 2.0 (the \"License\");\n",
              "// you may not use this file except in compliance with the License.\n",
              "// You may obtain a copy of the License at\n",
              "//\n",
              "//      http://www.apache.org/licenses/LICENSE-2.0\n",
              "//\n",
              "// Unless required by applicable law or agreed to in writing, software\n",
              "// distributed under the License is distributed on an \"AS IS\" BASIS,\n",
              "// WITHOUT WARRANTIES OR CONDITIONS OF ANY KIND, either express or implied.\n",
              "// See the License for the specific language governing permissions and\n",
              "// limitations under the License.\n",
              "\n",
              "/**\n",
              " * @fileoverview Helpers for google.colab Python module.\n",
              " */\n",
              "(function(scope) {\n",
              "function span(text, styleAttributes = {}) {\n",
              "  const element = document.createElement('span');\n",
              "  element.textContent = text;\n",
              "  for (const key of Object.keys(styleAttributes)) {\n",
              "    element.style[key] = styleAttributes[key];\n",
              "  }\n",
              "  return element;\n",
              "}\n",
              "\n",
              "// Max number of bytes which will be uploaded at a time.\n",
              "const MAX_PAYLOAD_SIZE = 100 * 1024;\n",
              "\n",
              "function _uploadFiles(inputId, outputId) {\n",
              "  const steps = uploadFilesStep(inputId, outputId);\n",
              "  const outputElement = document.getElementById(outputId);\n",
              "  // Cache steps on the outputElement to make it available for the next call\n",
              "  // to uploadFilesContinue from Python.\n",
              "  outputElement.steps = steps;\n",
              "\n",
              "  return _uploadFilesContinue(outputId);\n",
              "}\n",
              "\n",
              "// This is roughly an async generator (not supported in the browser yet),\n",
              "// where there are multiple asynchronous steps and the Python side is going\n",
              "// to poll for completion of each step.\n",
              "// This uses a Promise to block the python side on completion of each step,\n",
              "// then passes the result of the previous step as the input to the next step.\n",
              "function _uploadFilesContinue(outputId) {\n",
              "  const outputElement = document.getElementById(outputId);\n",
              "  const steps = outputElement.steps;\n",
              "\n",
              "  const next = steps.next(outputElement.lastPromiseValue);\n",
              "  return Promise.resolve(next.value.promise).then((value) => {\n",
              "    // Cache the last promise value to make it available to the next\n",
              "    // step of the generator.\n",
              "    outputElement.lastPromiseValue = value;\n",
              "    return next.value.response;\n",
              "  });\n",
              "}\n",
              "\n",
              "/**\n",
              " * Generator function which is called between each async step of the upload\n",
              " * process.\n",
              " * @param {string} inputId Element ID of the input file picker element.\n",
              " * @param {string} outputId Element ID of the output display.\n",
              " * @return {!Iterable<!Object>} Iterable of next steps.\n",
              " */\n",
              "function* uploadFilesStep(inputId, outputId) {\n",
              "  const inputElement = document.getElementById(inputId);\n",
              "  inputElement.disabled = false;\n",
              "\n",
              "  const outputElement = document.getElementById(outputId);\n",
              "  outputElement.innerHTML = '';\n",
              "\n",
              "  const pickedPromise = new Promise((resolve) => {\n",
              "    inputElement.addEventListener('change', (e) => {\n",
              "      resolve(e.target.files);\n",
              "    });\n",
              "  });\n",
              "\n",
              "  const cancel = document.createElement('button');\n",
              "  inputElement.parentElement.appendChild(cancel);\n",
              "  cancel.textContent = 'Cancel upload';\n",
              "  const cancelPromise = new Promise((resolve) => {\n",
              "    cancel.onclick = () => {\n",
              "      resolve(null);\n",
              "    };\n",
              "  });\n",
              "\n",
              "  // Wait for the user to pick the files.\n",
              "  const files = yield {\n",
              "    promise: Promise.race([pickedPromise, cancelPromise]),\n",
              "    response: {\n",
              "      action: 'starting',\n",
              "    }\n",
              "  };\n",
              "\n",
              "  cancel.remove();\n",
              "\n",
              "  // Disable the input element since further picks are not allowed.\n",
              "  inputElement.disabled = true;\n",
              "\n",
              "  if (!files) {\n",
              "    return {\n",
              "      response: {\n",
              "        action: 'complete',\n",
              "      }\n",
              "    };\n",
              "  }\n",
              "\n",
              "  for (const file of files) {\n",
              "    const li = document.createElement('li');\n",
              "    li.append(span(file.name, {fontWeight: 'bold'}));\n",
              "    li.append(span(\n",
              "        `(${file.type || 'n/a'}) - ${file.size} bytes, ` +\n",
              "        `last modified: ${\n",
              "            file.lastModifiedDate ? file.lastModifiedDate.toLocaleDateString() :\n",
              "                                    'n/a'} - `));\n",
              "    const percent = span('0% done');\n",
              "    li.appendChild(percent);\n",
              "\n",
              "    outputElement.appendChild(li);\n",
              "\n",
              "    const fileDataPromise = new Promise((resolve) => {\n",
              "      const reader = new FileReader();\n",
              "      reader.onload = (e) => {\n",
              "        resolve(e.target.result);\n",
              "      };\n",
              "      reader.readAsArrayBuffer(file);\n",
              "    });\n",
              "    // Wait for the data to be ready.\n",
              "    let fileData = yield {\n",
              "      promise: fileDataPromise,\n",
              "      response: {\n",
              "        action: 'continue',\n",
              "      }\n",
              "    };\n",
              "\n",
              "    // Use a chunked sending to avoid message size limits. See b/62115660.\n",
              "    let position = 0;\n",
              "    do {\n",
              "      const length = Math.min(fileData.byteLength - position, MAX_PAYLOAD_SIZE);\n",
              "      const chunk = new Uint8Array(fileData, position, length);\n",
              "      position += length;\n",
              "\n",
              "      const base64 = btoa(String.fromCharCode.apply(null, chunk));\n",
              "      yield {\n",
              "        response: {\n",
              "          action: 'append',\n",
              "          file: file.name,\n",
              "          data: base64,\n",
              "        },\n",
              "      };\n",
              "\n",
              "      let percentDone = fileData.byteLength === 0 ?\n",
              "          100 :\n",
              "          Math.round((position / fileData.byteLength) * 100);\n",
              "      percent.textContent = `${percentDone}% done`;\n",
              "\n",
              "    } while (position < fileData.byteLength);\n",
              "  }\n",
              "\n",
              "  // All done.\n",
              "  yield {\n",
              "    response: {\n",
              "      action: 'complete',\n",
              "    }\n",
              "  };\n",
              "}\n",
              "\n",
              "scope.google = scope.google || {};\n",
              "scope.google.colab = scope.google.colab || {};\n",
              "scope.google.colab._files = {\n",
              "  _uploadFiles,\n",
              "  _uploadFilesContinue,\n",
              "};\n",
              "})(self);\n",
              "</script> "
            ]
          },
          "metadata": {}
        },
        {
          "output_type": "stream",
          "name": "stdout",
          "text": [
            "Saving test.json to test.json\n"
          ]
        }
      ]
    },
    {
      "cell_type": "code",
      "source": [
        "import pandas as pd\n",
        "import json\n",
        "\n",
        "# Read the JSONL file and convert it to a DataFrame\n",
        "json_data = []\n",
        "with open('/content/train.json', 'r') as file:\n",
        "    for line in file:\n",
        "        json_data.append(json.loads(line))\n",
        "\n",
        "# Create a DataFrame from the JSON data\n",
        "train_df = pd.DataFrame(json_data)\n",
        "\n",
        "# Save the DataFrame to a CSV file\n",
        "train_df.to_csv('/content/train.csv', index=False)\n",
        "\n",
        "print(\"Conversion complete! The file has been saved as train.csv.\")\n"
      ],
      "metadata": {
        "colab": {
          "base_uri": "https://localhost:8080/"
        },
        "id": "RnOtbnSqAKjC",
        "outputId": "deb54dc4-25e7-4cc7-d1be-8dca20f30fee"
      },
      "execution_count": null,
      "outputs": [
        {
          "output_type": "stream",
          "name": "stdout",
          "text": [
            "Conversion complete! The file has been saved as train.csv.\n"
          ]
        }
      ]
    },
    {
      "cell_type": "code",
      "source": [
        "# Import necessary libraries\n",
        "import pandas as pd\n",
        "import numpy as np\n",
        "import ast\n",
        "\n",
        "# Load the dataset\n",
        "file_path = '/content/train.csv'  # Update the path to your dataset if different\n",
        "data = pd.read_csv(file_path)\n",
        "\n",
        "# Display the first few rows to verify\n",
        "print(data.head())\n"
      ],
      "metadata": {
        "colab": {
          "base_uri": "https://localhost:8080/"
        },
        "id": "58-ETalGHZ1V",
        "outputId": "a16ef70c-740e-42f6-b728-d93ae27fd82c"
      },
      "execution_count": null,
      "outputs": [
        {
          "output_type": "stream",
          "name": "stdout",
          "text": [
            "   index            id                                           sequence  \\\n",
            "0      0  id_001f94081  GGAAAAGCUCUAAUAACAGGAGACUAGGACUACGUAUUUCUAGGUA...   \n",
            "1      1  id_0049f53ba  GGAAAAAGCGCGCGCGGUUAGCGCGCGCUUUUGCGCGCGCUGUACC...   \n",
            "2      2  id_006f36f57  GGAAAGUGCUCAGAUAAGCUAAGCUCGAAUAGCAAUCGAAUAGAAU...   \n",
            "3      3  id_0082d463b  GGAAAAGCGCGCGCGCGCGCGCGAAAAAGCGCGCGCGCGCGCGCGC...   \n",
            "4      4  id_0087940f4  GGAAAAUAUAUAAUAUAUUAUAUAAAUAUAUUAUAGAAGUAUAAUA...   \n",
            "\n",
            "                                           structure  \\\n",
            "0  .....((((((.......)))).)).((.....((..((((((......   \n",
            "1  .....(((((((((((((((((((((((....)))))))))).)))...   \n",
            "2  .....((((.((.....((((.(((.....)))..((((......)...   \n",
            "3  ......((((((((((((((((......))))))))))))))))((...   \n",
            "4  .....(((((((.((((((((((((.(((((((((....)))))))...   \n",
            "\n",
            "                                 predicted_loop_type  signal_to_noise  \\\n",
            "0  EEEEESSSSSSHHHHHHHSSSSBSSXSSIIIIISSIISSSSSSHHH...            6.894   \n",
            "1  EEEEESSSSSSSSSSSSSSSSSSSSSSSHHHHSSSSSSSSSSBSSS...            0.193   \n",
            "2  EEEEESSSSISSIIIIISSSSMSSSHHHHHSSSMMSSSSHHHHHHS...            8.800   \n",
            "3  EEEEEESSSSSSSSSSSSSSSSHHHHHHSSSSSSSSSSSSSSSSSS...            0.104   \n",
            "4  EEEEESSSSSSSBSSSSSSSSSSSSBSSSSSSSSSHHHHSSSSSSS...            0.423   \n",
            "\n",
            "   SN_filter  seq_length  seq_scored  \\\n",
            "0        1.0         107          68   \n",
            "1        0.0         107          68   \n",
            "2        1.0         107          68   \n",
            "3        0.0         107          68   \n",
            "4        0.0         107          68   \n",
            "\n",
            "                                    reactivity_error  \\\n",
            "0  [0.1359, 0.207, 0.1633, 0.1452, 0.1314, 0.105,...   \n",
            "1  [2.8272, 2.8272, 2.8272, 4.7343, 2.5676, 2.567...   \n",
            "2  [0.0931, 0.1329, 0.1128, 0.0891, 0.0844, 0.080...   \n",
            "3  [3.5229, 6.0748, 3.0374, 3.0374, 3.0374, 3.037...   \n",
            "4  [1.665, 2.1728, 2.0041, 1.2405, 0.6202, 1.4981...   \n",
            "\n",
            "                                   deg_error_Mg_pH10  \\\n",
            "0  [0.2613, 0.3842, 0.1372, 0.2531, 0.1798, 0.137...   \n",
            "1  [73705.3985, 73705.3985, 73705.3985, 73705.398...   \n",
            "2  [0.1365, 0.2237, 0.1812, 0.1333, 0.1148, 0.160...   \n",
            "3  [73705.3985, 73705.3985, 73705.3985, 73705.398...   \n",
            "4  [4.2139, 3.9637, 3.2467, 2.4716, 1.2358, 1.235...   \n",
            "\n",
            "                                      deg_error_pH10  \\\n",
            "0  [0.2631, 0.286, 0.0964, 0.1574, 0.1, 0.1019, 0...   \n",
            "1  [10.1986, 9.2418, 5.0933, 5.0933, 5.0933, 5.09...   \n",
            "2  [0.1702, 0.178, 0.111, 0.091, 0.0822, 0.1054, ...   \n",
            "3  [11.8007, 12.7566, 5.7733, 5.7733, 5.7733, 5.7...   \n",
            "4  [3.0942, 3.015, 2.1212, 2.0552, 0.8815, 0.8815...   \n",
            "\n",
            "                                    deg_error_Mg_50C  \\\n",
            "0  [0.1501, 0.275, 0.0947, 0.1866, 0.1369, 0.1148...   \n",
            "1  [16.6174, 13.868, 8.1968, 8.1968, 8.1968, 8.19...   \n",
            "2  [0.1033, 0.1464, 0.1126, 0.0962, 0.0906, 0.100...   \n",
            "3  [121286.7181, 121286.7182, 121286.7181, 121286...   \n",
            "4  [2.6717, 2.4818, 1.9919, 2.5485, 1.6324, 2.020...   \n",
            "\n",
            "                                       deg_error_50C  \\\n",
            "0  [0.2167, 0.3475, 0.188, 0.2124, 0.1703, 0.1481...   \n",
            "1  [15.4857, 7.9596, 13.3957, 5.8777, 5.8777, 5.8...   \n",
            "2  [0.1498, 0.1761, 0.1517, 0.1167, 0.102, 0.1297...   \n",
            "3  [15.3995, 8.1124, 7.7824, 7.7824, 7.7824, 7.78...   \n",
            "4  [1.3285, 3.6173, 1.3057, 1.3021, 1.1507, 1.150...   \n",
            "\n",
            "                                          reactivity  \\\n",
            "0  [0.3297, 1.5693, 1.1227, 0.8686, 0.7217, 0.438...   \n",
            "1  [0.0, 0.0, 0.0, 2.2965, 0.0, 0.0, 0.0, 0.0, 0....   \n",
            "2  [0.4482, 1.4822, 1.1819, 0.7434, 0.7148, 0.652...   \n",
            "3  [0.0, 2.2399, 0.0, 0.0, 0.0, 0.0, 0.0, 0.0, 0....   \n",
            "4  [0.8267, 2.6577, 2.8481, 0.4009, 0.0, 1.6317, ...   \n",
            "\n",
            "                                         deg_Mg_pH10  \\\n",
            "0  [0.7556, 2.983, 0.2526, 1.3789, 0.6376, 0.3313...   \n",
            "1  [0.0, 0.0, 0.0, 0.0, 0.0, 0.0, 0.0, 0.0, 0.0, ...   \n",
            "2  [0.2504, 1.4021, 0.9804, 0.4967, 0.3653, 0.897...   \n",
            "3  [0.0, -0.5083, 0.0, 0.0, 0.0, 0.0, 0.0, 0.0, 0...   \n",
            "4  [2.1058, 3.138, 2.5437, 1.0932, 0.0, 0.0, 1.13...   \n",
            "\n",
            "                                            deg_pH10  \\\n",
            "0  [2.3375, 3.506, 0.3008, 1.0108, 0.2635, 0.3403...   \n",
            "1  [4.947, 4.4523, 0.0, 0.0, 0.0, 0.0, 0.0, 0.0, ...   \n",
            "2  [2.243, 2.9361, 1.0553, 0.721, 0.6396, 1.1473,...   \n",
            "3  [3.4248, 6.8128, 0.0, 0.0, 0.0, 0.0, 0.0, 0.0,...   \n",
            "4  [4.7366, 4.6243, 1.2068, 1.1538, 0.0, 0.0, 0.7...   \n",
            "\n",
            "                                          deg_Mg_50C  \\\n",
            "0  [0.3581, 2.9683, 0.2589, 1.4552, 0.7244, 0.497...   \n",
            "1  [4.8511, 4.0426, 0.0, 0.0, 0.0, 0.0, 0.0, 0.0,...   \n",
            "2  [0.5163, 1.6823, 1.0426, 0.7902, 0.7477, 0.969...   \n",
            "3  [0.0, -0.8365, 0.0, 0.0, 0.0, 0.0, 0.0, 0.0, 0...   \n",
            "4  [2.2052, 1.7947, 0.7457, 3.1233, 0.8086, 2.205...   \n",
            "\n",
            "                                             deg_50C  \n",
            "0  [0.6382, 3.4773, 0.9988, 1.3228, 0.7877, 0.589...  \n",
            "1  [7.6692, 0.0, 10.9561, 0.0, 0.0, 0.0, 0.0, 0.0...  \n",
            "2  [0.9501, 1.7975, 1.4991, 0.8686, 0.6893, 1.229...  \n",
            "3  [7.6692, -1.3223, 0.0, 0.0, 0.0, 0.0, 0.0, 0.0...  \n",
            "4  [0.0, 5.1198, -0.3551, -0.3518, 0.0, 0.0, 0.0,...  \n"
          ]
        }
      ]
    },
    {
      "cell_type": "code",
      "source": [
        "# List of columns that store array-like data as strings\n",
        "array_columns = [\n",
        "    \"reactivity_error\", \"deg_error_Mg_pH10\", \"deg_error_pH10\",\n",
        "    \"deg_error_Mg_50C\", \"deg_error_50C\", \"reactivity\",\n",
        "    \"deg_Mg_pH10\", \"deg_pH10\", \"deg_Mg_50C\", \"deg_50C\"\n",
        "]\n",
        "\n",
        "# Convert these columns to Python lists\n",
        "for col in array_columns:\n",
        "    data[col] = data[col].apply(ast.literal_eval)\n",
        "\n",
        "# Verify the conversion by printing a sample column\n",
        "print(data['reactivity_error'].head())\n"
      ],
      "metadata": {
        "colab": {
          "base_uri": "https://localhost:8080/"
        },
        "id": "TIflOjCPL7Zg",
        "outputId": "283e3910-9625-4a84-a62d-61f2aca8da8f"
      },
      "execution_count": null,
      "outputs": [
        {
          "output_type": "stream",
          "name": "stdout",
          "text": [
            "0    [0.1359, 0.207, 0.1633, 0.1452, 0.1314, 0.105,...\n",
            "1    [2.8272, 2.8272, 2.8272, 4.7343, 2.5676, 2.567...\n",
            "2    [0.0931, 0.1329, 0.1128, 0.0891, 0.0844, 0.080...\n",
            "3    [3.5229, 6.0748, 3.0374, 3.0374, 3.0374, 3.037...\n",
            "4    [1.665, 2.1728, 2.0041, 1.2405, 0.6202, 1.4981...\n",
            "Name: reactivity_error, dtype: object\n"
          ]
        }
      ]
    },
    {
      "cell_type": "code",
      "source": [
        "# Retain only rows with a signal-to-noise ratio greater than 1\n",
        "filtered_data = data[data[\"signal_to_noise\"] > 1]\n",
        "\n",
        "# Verify the size of the filtered dataset\n",
        "print(f\"Filtered dataset size: {filtered_data.shape}\")"
      ],
      "metadata": {
        "colab": {
          "base_uri": "https://localhost:8080/"
        },
        "id": "-xWAx_HSL_nA",
        "outputId": "bdb40539-235d-489a-9f64-ed90de4e5717"
      },
      "execution_count": null,
      "outputs": [
        {
          "output_type": "stream",
          "name": "stdout",
          "text": [
            "Filtered dataset size: (2096, 19)\n"
          ]
        }
      ]
    },
    {
      "cell_type": "code",
      "source": [
        "# Define a mapping for encoding\n",
        "token2int = {x: i for i, x in enumerate(\"().ACGUBEHIMSX\")}\n",
        "\n",
        "# Function to encode sequences\n",
        "def encode_sequence(df, cols=[\"sequence\", \"structure\", \"predicted_loop_type\"]):\n",
        "    encoded = np.transpose(\n",
        "        np.array(\n",
        "            df[cols]\n",
        "            .applymap(lambda seq: [token2int[x] for x in seq])\n",
        "            .values\n",
        "            .tolist()\n",
        "        ),\n",
        "        (0, 2, 1)\n",
        "    )\n",
        "    return encoded\n",
        "\n",
        "# Apply encoding to the filtered dataset\n",
        "encoded_inputs = encode_sequence(filtered_data)\n",
        "\n",
        "# Check the shape of the encoded data\n",
        "print(f\"Encoded input shape: {encoded_inputs.shape}\")\n"
      ],
      "metadata": {
        "colab": {
          "base_uri": "https://localhost:8080/"
        },
        "id": "IFFgf6waMH_Y",
        "outputId": "0daf7908-e914-4865-aae5-4e82f4432286"
      },
      "execution_count": null,
      "outputs": [
        {
          "output_type": "stream",
          "name": "stdout",
          "text": [
            "Encoded input shape: (2096, 107, 3)\n"
          ]
        },
        {
          "output_type": "stream",
          "name": "stderr",
          "text": [
            "<ipython-input-36-abdcd5708244>:9: FutureWarning: DataFrame.applymap has been deprecated. Use DataFrame.map instead.\n",
            "  .applymap(lambda seq: [token2int[x] for x in seq])\n"
          ]
        }
      ]
    },
    {
      "cell_type": "code",
      "source": [
        "# Function to process RNA structure and create adjacency matrix\n",
        "def get_couples(structure):\n",
        "    opened = [idx for idx, i in enumerate(structure) if i == '(']\n",
        "    closed = [idx for idx, i in enumerate(structure) if i == ')']\n",
        "    assert len(opened) == len(closed)\n",
        "\n",
        "    assigned = []\n",
        "    couples = []\n",
        "    for close_idx in closed:\n",
        "        for open_idx in opened:\n",
        "            if open_idx < close_idx and open_idx not in assigned:\n",
        "                assigned.append(open_idx)\n",
        "                couples.append([open_idx, close_idx])\n",
        "                break\n",
        "    return couples\n",
        "\n",
        "def build_matrix(couples, size):\n",
        "    mat = np.zeros((size, size))\n",
        "    for i in range(size):\n",
        "        if i < size - 1:\n",
        "            mat[i, i + 1] = 1\n",
        "        if i > 0:\n",
        "            mat[i, i - 1] = 1\n",
        "    for i, j in couples:\n",
        "        mat[i, j] = 1\n",
        "        mat[j, i] = 1\n",
        "    return mat\n",
        "\n",
        "def convert_to_adj(structure):\n",
        "    couples = get_couples(structure)\n",
        "    return build_matrix(couples, len(structure))\n",
        "\n",
        "# Apply adjacency matrix generation to the dataset\n",
        "adj_matrix = np.array(filtered_data[\"structure\"].apply(convert_to_adj).tolist())\n",
        "\n",
        "# Check the shape of the adjacency matrix\n",
        "print(f\"Adjacency matrix shape: {adj_matrix.shape}\")"
      ],
      "metadata": {
        "colab": {
          "base_uri": "https://localhost:8080/"
        },
        "id": "U9kGVgwBPZ0G",
        "outputId": "7217fcda-d37b-4fa6-e4a1-cd92e1b9b947"
      },
      "execution_count": null,
      "outputs": [
        {
          "output_type": "stream",
          "name": "stdout",
          "text": [
            "Adjacency matrix shape: (2096, 107, 107)\n"
          ]
        }
      ]
    },
    {
      "cell_type": "code",
      "source": [
        "import torch\n",
        "\n",
        "# Convert inputs and adjacency matrix to tensors\n",
        "train_inputs = torch.tensor(encoded_inputs, dtype=torch.long)\n",
        "train_adj = torch.tensor(adj_matrix, dtype=torch.float32)\n",
        "\n",
        "# Prepare labels (target outputs) as tensors\n",
        "pred_cols = ['reactivity', 'deg_Mg_pH10', 'deg_pH10', 'deg_Mg_50C', 'deg_50C']\n",
        "train_labels = torch.tensor(\n",
        "    np.array(filtered_data[pred_cols].values.tolist()).transpose((0, 2, 1)),\n",
        "    dtype=torch.float32\n",
        ")\n",
        "\n",
        "# Print shapes to confirm\n",
        "print(f\"Input tensor shape: {train_inputs.shape}\")\n",
        "print(f\"Adjacency tensor shape: {train_adj.shape}\")\n",
        "print(f\"Labels tensor shape: {train_labels.shape}\")\n"
      ],
      "metadata": {
        "colab": {
          "base_uri": "https://localhost:8080/"
        },
        "id": "V23uRDBmPetF",
        "outputId": "56b68813-f7d1-4a8f-bf36-5e7fd03c508a"
      },
      "execution_count": null,
      "outputs": [
        {
          "output_type": "stream",
          "name": "stdout",
          "text": [
            "Input tensor shape: torch.Size([2096, 107, 3])\n",
            "Adjacency tensor shape: torch.Size([2096, 107, 107])\n",
            "Labels tensor shape: torch.Size([2096, 68, 5])\n"
          ]
        }
      ]
    },
    {
      "cell_type": "code",
      "source": [
        "class AverageMeter:\n",
        "    \"\"\"\n",
        "    Computes and stores the average and current value\n",
        "    \"\"\"\n",
        "    def __init__(self):\n",
        "        self.reset()\n",
        "\n",
        "    def reset(self):\n",
        "        self.val = 0\n",
        "        self.avg = 0\n",
        "        self.sum = 0\n",
        "        self.count = 0\n",
        "\n",
        "    def update(self, val, n=1):\n",
        "        self.val = val\n",
        "        self.sum += val * n\n",
        "        self.count += n\n",
        "        self.avg = self.sum / self.count\n"
      ],
      "metadata": {
        "id": "Sy7Pn8D7Sk_h"
      },
      "execution_count": null,
      "outputs": []
    },
    {
      "cell_type": "code",
      "source": [
        "from torch.utils.data import random_split, DataLoader, TensorDataset\n",
        "\n",
        "# Combine inputs, adjacency matrices, and labels into a dataset\n",
        "dataset = TensorDataset(train_inputs, train_adj, train_labels)\n",
        "\n",
        "# Split the dataset into training and validation sets (e.g., 80% train, 20% valid)\n",
        "train_size = int(0.8 * len(dataset))  # 80% for training\n",
        "valid_size = len(dataset) - train_size  # Remaining for validation\n",
        "train_dataset, valid_dataset = random_split(dataset, [train_size, valid_size])\n",
        "\n",
        "# Create data loaders for training and validation\n",
        "train_loader = DataLoader(train_dataset, batch_size=64, shuffle=True)\n",
        "valid_loader = DataLoader(valid_dataset, batch_size=64, shuffle=False)\n",
        "# Verify DataLoader by iterating through a batch\n",
        "for inputs, adj, labels in train_loader:\n",
        "    print(f\"Inputs shape: {inputs.shape}\")\n",
        "    print(f\"Adjacency shape: {adj.shape}\")\n",
        "    print(f\"Labels shape: {labels.shape}\")\n",
        "    break"
      ],
      "metadata": {
        "id": "qrMj3PEJTBT1",
        "colab": {
          "base_uri": "https://localhost:8080/"
        },
        "outputId": "4131def1-cfba-48a5-bc8b-7810081b75e1"
      },
      "execution_count": null,
      "outputs": [
        {
          "output_type": "stream",
          "name": "stdout",
          "text": [
            "Inputs shape: torch.Size([64, 107, 3])\n",
            "Adjacency shape: torch.Size([64, 107, 107])\n",
            "Labels shape: torch.Size([64, 68, 5])\n"
          ]
        }
      ]
    },
    {
      "cell_type": "code",
      "source": [
        "import torch.nn as nn\n",
        "\n",
        "class GCN(nn.Module):\n",
        "    \"\"\"\n",
        "    A single GCN layer that aggregates features from neighbors.\n",
        "    \"\"\"\n",
        "    def __init__(self, input_dim, output_dim, aggregator='mean'):\n",
        "        super(GCN, self).__init__()\n",
        "        self.aggregator = aggregator\n",
        "\n",
        "        # Adjust the input dimensions based on the aggregator type\n",
        "        if aggregator == 'mean':\n",
        "            linear_input_dim = input_dim * 2\n",
        "        elif aggregator == 'conv':\n",
        "            linear_input_dim = input_dim\n",
        "        elif aggregator == 'pooling':\n",
        "            linear_input_dim = input_dim * 2\n",
        "            self.linear_pooling = nn.Linear(input_dim, input_dim)\n",
        "        elif aggregator == 'lstm':\n",
        "            self.lstm_hidden = 128\n",
        "            linear_input_dim = input_dim + self.lstm_hidden\n",
        "            self.lstm_agg = nn.LSTM(input_dim, self.lstm_hidden, num_layers=1, batch_first=True)\n",
        "\n",
        "        # Define the linear layer for the GCN\n",
        "        self.linear_gcn = nn.Linear(in_features=linear_input_dim, out_features=output_dim)\n",
        "\n",
        "    def forward(self, input_, adj_matrix):\n",
        "        \"\"\"\n",
        "        Forward pass for GCN layer.\n",
        "        \"\"\"\n",
        "        adj_matrix = adj_matrix.type(torch.float32)\n",
        "        sum_adj = torch.sum(adj_matrix, axis=2)\n",
        "        sum_adj[sum_adj == 0] = 1  # Avoid division by zero\n",
        "\n",
        "        if self.aggregator == 'mean' or self.aggregator == 'conv':\n",
        "            feature_agg = torch.bmm(adj_matrix, input_)\n",
        "            feature_agg = feature_agg / sum_adj.unsqueeze(dim=2)\n",
        "\n",
        "        elif self.aggregator == 'pooling':\n",
        "            feature_pooling = self.linear_pooling(input_)\n",
        "            feature_agg = torch.sigmoid(feature_pooling)\n",
        "            feature_agg = torch.bmm(adj_matrix, feature_agg)\n",
        "            feature_agg = feature_agg / sum_adj.unsqueeze(dim=2)\n",
        "\n",
        "        elif self.aggregator == 'lstm':\n",
        "            feature_agg = torch.zeros(input_.shape[0], input_.shape[1], self.lstm_hidden).cuda()\n",
        "            for i in range(adj_matrix.shape[1]):\n",
        "                neighbors = adj_matrix[:, i, :].unsqueeze(2) * input_\n",
        "                _, hn = self.lstm_agg(neighbors)\n",
        "                feature_agg[:, i, :] = torch.squeeze(hn[0], 0)\n",
        "\n",
        "        # Concatenate features\n",
        "        if self.aggregator != 'conv':\n",
        "            feature_cat = torch.cat((input_, feature_agg), axis=2)\n",
        "        else:\n",
        "            feature_cat = feature_agg\n",
        "\n",
        "        # Apply linear transformation and normalize\n",
        "        feature = torch.sigmoid(self.linear_gcn(feature_cat))\n",
        "        feature = feature / torch.norm(feature, p=2, dim=2).unsqueeze(dim=2)\n",
        "\n",
        "        return feature"
      ],
      "metadata": {
        "id": "-QbzkcRqQqC_"
      },
      "execution_count": null,
      "outputs": []
    },
    {
      "cell_type": "code",
      "source": [
        "# Define device as CPU\n",
        "device = torch.device(\"cpu\")"
      ],
      "metadata": {
        "id": "VAy3SmwhSB7F"
      },
      "execution_count": null,
      "outputs": []
    },
    {
      "cell_type": "code",
      "source": [
        "class Net(nn.Module):\n",
        "    def __init__(self, num_embedding=14, seq_len=107, pred_len=68, dropout=0.5,\n",
        "                 embed_dim=100, hidden_dim=128, K=1, aggregator='mean'):\n",
        "        \"\"\"\n",
        "        K: Number of GCN layers.\n",
        "        aggregator: Type of GCN aggregator function.\n",
        "        \"\"\"\n",
        "        super(Net, self).__init__()\n",
        "\n",
        "        self.pred_len = pred_len\n",
        "\n",
        "        # Embedding layer\n",
        "        self.embedding_layer = nn.Embedding(num_embeddings=num_embedding, embedding_dim=embed_dim)\n",
        "\n",
        "        # GCN layers\n",
        "        self.gcn = nn.ModuleList([GCN(3 * embed_dim, 3 * embed_dim, aggregator=aggregator) for _ in range(K)])\n",
        "\n",
        "        # GRU layer\n",
        "        self.gru_layer = nn.GRU(input_size=3 * embed_dim, hidden_size=hidden_dim, num_layers=3,\n",
        "                                batch_first=True, dropout=dropout, bidirectional=True)\n",
        "\n",
        "        # Linear layer\n",
        "        self.linear_layer = nn.Linear(in_features=2 * hidden_dim, out_features=5)\n",
        "\n",
        "    def forward(self, input_, adj_matrix):\n",
        "        # Embedding\n",
        "        embedding = self.embedding_layer(input_)\n",
        "        embedding = torch.reshape(embedding, (-1, embedding.shape[1], embedding.shape[2] * embedding.shape[3]))\n",
        "\n",
        "        # GCN\n",
        "        gcn_feature = embedding\n",
        "        for gcn_layer in self.gcn:\n",
        "            gcn_feature = gcn_layer(gcn_feature, adj_matrix)\n",
        "\n",
        "        # GRU\n",
        "        gru_output, _ = self.gru_layer(gcn_feature)\n",
        "        truncated = gru_output[:, :self.pred_len]\n",
        "\n",
        "        # Linear layer\n",
        "        output = self.linear_layer(truncated)\n",
        "\n",
        "        return output"
      ],
      "metadata": {
        "id": "LnMXx1OORDxU"
      },
      "execution_count": null,
      "outputs": []
    },
    {
      "cell_type": "code",
      "source": [
        "def train_fn(epoch, model, train_loader, criterion, optimizer):\n",
        "    model.train()\n",
        "    model.zero_grad()\n",
        "    train_loss = AverageMeter()\n",
        "\n",
        "    for input_, adj, label in train_loader:\n",
        "        input_ = input_.to(device)\n",
        "        adj = adj.to(device)\n",
        "        label = label.to(device)\n",
        "\n",
        "        preds = model(input_, adj)\n",
        "        loss = criterion(preds, label)\n",
        "\n",
        "        optimizer.zero_grad()\n",
        "        loss.backward()\n",
        "        optimizer.step()\n",
        "\n",
        "        train_loss.update(loss.item())\n",
        "\n",
        "    print(f\"Train Loss: {train_loss.avg}\")\n",
        "    return train_loss.avg\n"
      ],
      "metadata": {
        "id": "jwdO2sjVRGIk"
      },
      "execution_count": null,
      "outputs": []
    },
    {
      "cell_type": "code",
      "source": [
        "def eval_fn(epoch, model, valid_loader, criterion):\n",
        "    model.eval()\n",
        "    eval_loss = AverageMeter()\n",
        "\n",
        "    with torch.no_grad():\n",
        "        for input_, adj, label in valid_loader:\n",
        "            input_ = input_.to(device)\n",
        "            adj = adj.to(device)\n",
        "            label = label.to(device)\n",
        "\n",
        "            preds = model(input_, adj)\n",
        "            loss = criterion(preds, label)\n",
        "            eval_loss.update(loss.item())\n",
        "\n",
        "    print(f\"Valid Loss: {eval_loss.avg}\")\n",
        "    return eval_loss.avg\n"
      ],
      "metadata": {
        "id": "rVuFGfY1RIvs"
      },
      "execution_count": null,
      "outputs": []
    },
    {
      "cell_type": "code",
      "source": [
        "model = Net(K=1, aggregator='mean')\n",
        "model.to(device)\n",
        "\n",
        "criterion = nn.MSELoss()\n",
        "optimizer = torch.optim.Adam(model.parameters(), lr=0.001)\n",
        "train_losses, eval_losses = [], []\n",
        "\n",
        "for epoch in range(10):  # Adjust number of epochs\n",
        "    print(f\"Epoch {epoch + 1}/{10}\")\n",
        "    train_loss = train_fn(epoch, model, train_loader, criterion, optimizer)\n",
        "    eval_loss = eval_fn(epoch, model, valid_loader, criterion)\n",
        "    train_losses.append(train_loss)\n",
        "    eval_losses.append(eval_loss)"
      ],
      "metadata": {
        "colab": {
          "base_uri": "https://localhost:8080/"
        },
        "id": "oxEH4ILsRLRE",
        "outputId": "81839c0b-1852-4cb3-acae-8cece97e92e0"
      },
      "execution_count": null,
      "outputs": [
        {
          "output_type": "stream",
          "name": "stdout",
          "text": [
            "Epoch 1/10\n",
            "Train Loss: 0.2469474916104917\n",
            "Valid Loss: 0.19332158352647508\n",
            "Epoch 2/10\n",
            "Train Loss: 0.17877936528788674\n",
            "Valid Loss: 0.16862872881548746\n",
            "Epoch 3/10\n",
            "Train Loss: 0.15993786189291212\n",
            "Valid Loss: 0.1554375077996935\n",
            "Epoch 4/10\n",
            "Train Loss: 0.1454152321373975\n",
            "Valid Loss: 0.1402831311736788\n",
            "Epoch 5/10\n",
            "Train Loss: 0.13237473727376373\n",
            "Valid Loss: 0.12956792967660086\n",
            "Epoch 6/10\n",
            "Train Loss: 0.1267659012918119\n",
            "Valid Loss: 0.1273754302944456\n",
            "Epoch 7/10\n",
            "Train Loss: 0.12373263885577519\n",
            "Valid Loss: 0.12069197744131088\n",
            "Epoch 8/10\n",
            "Train Loss: 0.11941195720875705\n",
            "Valid Loss: 0.12262801293815885\n",
            "Epoch 9/10\n",
            "Train Loss: 0.11739867649696491\n",
            "Valid Loss: 0.11541217246225902\n",
            "Epoch 10/10\n",
            "Train Loss: 0.1118029546406534\n",
            "Valid Loss: 0.11195164706025805\n"
          ]
        }
      ]
    },
    {
      "cell_type": "code",
      "source": [
        "import matplotlib.pyplot as plt\n",
        "\n",
        "# Plot training and validation losses\n",
        "plt.figure(figsize=(10, 6))\n",
        "plt.plot(train_losses, label='Training Loss')\n",
        "plt.plot(eval_losses, label='Validation Loss')\n",
        "plt.xlabel('Epoch')\n",
        "plt.ylabel('Loss (MSE)')\n",
        "plt.title('Training and Validation Loss')\n",
        "plt.legend()\n",
        "plt.grid()\n",
        "plt.show()"
      ],
      "metadata": {
        "id": "Y3bwMAFmROBr",
        "colab": {
          "base_uri": "https://localhost:8080/",
          "height": 564
        },
        "outputId": "1ee2ad94-b677-4e20-a043-9f98b051c981"
      },
      "execution_count": null,
      "outputs": [
        {
          "output_type": "display_data",
          "data": {
            "text/plain": [
              "<Figure size 1000x600 with 1 Axes>"
            ],
            "image/png": "[encoded data removed]"
          },
          "metadata": {}
        }
      ]
    },
    {
      "cell_type": "code",
      "source": [
        "import pandas as pd\n",
        "import json\n",
        "\n",
        "# Read the JSONL file and convert it to a DataFrame\n",
        "json_data = []\n",
        "with open('/content/test.json', 'r') as file:\n",
        "    for line in file:\n",
        "        json_data.append(json.loads(line))\n",
        "\n",
        "# Create a DataFrame from the JSON data\n",
        "test_df = pd.DataFrame(json_data)\n",
        "\n",
        "# Save the DataFrame to a CSV file\n",
        "test_df.to_csv('/content/test.csv', index=False)\n",
        "\n",
        "print(\"Conversion complete! The file has been saved as test.csv.\")"
      ],
      "metadata": {
        "id": "50062esV72xc"
      },
      "execution_count": null,
      "outputs": []
    },
    {
      "cell_type": "code",
      "source": [
        "def encode_sequence(df, cols=[\"sequence\", \"structure\", \"predicted_loop_type\"]):\n",
        "    \"\"\"\n",
        "    Encodes the sequence, structure, and predicted_loop_type columns into numerical format.\n",
        "    Handles sequences of varying lengths by padding with a special token.\n",
        "    \"\"\"\n",
        "    token2int = {x: i for i, x in enumerate(\"().ACGUBEHIMSX\")}\n",
        "\n",
        "    # Find maximum sequence length\n",
        "    max_len = max(df[cols[0]].str.len().max(), df[cols[1]].str.len().max(), df[cols[2]].str.len().max())\n",
        "\n",
        "    # Pad sequences to ensure consistent length\n",
        "    encoded_cols = []\n",
        "    for col in cols:\n",
        "        encoded_col = df[col].apply(lambda seq: [token2int[x] for x in seq] + [0] * (max_len - len(seq))).tolist()\n",
        "        encoded_cols.append(encoded_col)\n",
        "\n",
        "    # Stack the encoded columns\n",
        "    encoded = np.stack(\n",
        "        [np.array(col) for col in encoded_cols],\n",
        "        axis=-1\n",
        "    )\n",
        "    return encoded\n",
        "\n",
        "import numpy as np\n",
        "\n",
        "def pad_matrices(matrices, max_len):\n",
        "    \"\"\"Pads adjacency matrices to a uniform size.\"\"\"\n",
        "    padded_matrices = []\n",
        "    for matrix in matrices:\n",
        "        pad_width = max_len - matrix.shape[0]\n",
        "        if pad_width > 0:\n",
        "            padded_matrix = np.pad(matrix, ((0, pad_width), (0, pad_width)), 'constant')\n",
        "        else:\n",
        "            padded_matrix = matrix  # No padding needed\n",
        "        padded_matrices.append(padded_matrix)\n",
        "    return padded_matrices\n",
        "\n",
        "def preprocess_inputs(df):\n",
        "    \"\"\"\n",
        "    Preprocesses the test dataset by encoding sequences and generating adjacency matrices.\n",
        "    \"\"\"\n",
        "    # Encode sequences\n",
        "    inputs = encode_sequence(df)\n",
        "\n",
        "    # Generate adjacency matrices and find max dimension\n",
        "    adj_matrices = df[\"structure\"].apply(convert_to_adj).tolist()\n",
        "    max_len = max(matrix.shape[0] for matrix in adj_matrices)  # Get max dimension\n",
        "\n",
        "    # Pad matrices to uniform size\n",
        "    adj_matrices = pad_matrices(adj_matrices, max_len)\n",
        "\n",
        "    adj_matrices = np.array(adj_matrices) # Now convert to numpy array\n",
        "    return inputs, adj_matrices\n"
      ],
      "metadata": {
        "id": "LIi3yQHcA3Fm"
      },
      "execution_count": null,
      "outputs": []
    },
    {
      "cell_type": "code",
      "source": [
        "\n",
        "# Load test dataset\n",
        "test_file_path = '/content/test.csv'  # Update path if needed\n",
        "test_df = pd.read_csv(test_file_path)\n",
        "\n",
        "# Preprocess test dataset: encode sequences and create adjacency matrices\n",
        "test_inputs, test_adj = preprocess_inputs(test_df)\n",
        "\n",
        "# Convert to PyTorch tensors\n",
        "test_inputs = torch.tensor(test_inputs, dtype=torch.long)\n",
        "test_adj = torch.tensor(test_adj, dtype=torch.float32)\n",
        "\n",
        "# Create a DataLoader for the test set\n",
        "test_dataset = TensorDataset(test_inputs, test_adj)\n",
        "test_loader = DataLoader(test_dataset, batch_size=64, shuffle=False)\n",
        "\n",
        "# Function to predict on test set\n",
        "def predict_fn(model, test_loader):\n",
        "    model.eval()\n",
        "    predictions = []\n",
        "\n",
        "    with torch.no_grad():\n",
        "        for input_, adj in test_loader:\n",
        "            input_ = input_.to(device)\n",
        "            adj = adj.to(device)\n",
        "\n",
        "            preds = model(input_, adj)  # Forward pass\n",
        "            predictions.append(preds.cpu().numpy())  # Collect predictions as numpy arrays\n",
        "\n",
        "    # Concatenate all predictions into a single array\n",
        "    return np.concatenate(predictions, axis=0)\n",
        "\n",
        "# Run predictions\n",
        "test_predictions = predict_fn(model, test_loader)\n",
        "\n",
        "# Flatten predictions by averaging over sequence positions (dim=1)\n",
        "test_predictions_flat = test_predictions.mean(axis=1)  # Shape: (3634, 5)\n",
        "\n",
        "# Convert predictions into a dataframe for saving\n",
        "test_pred_df = pd.DataFrame(test_predictions_flat, columns=['reactivity', 'deg_Mg_pH10', 'deg_pH10', 'deg_Mg_50C', 'deg_50C'])\n",
        "\n",
        "# Add IDs if present in the test dataset\n",
        "if 'id' in test_df.columns:\n",
        "    test_pred_df['id'] = test_df['id']\n",
        "\n",
        "# Save predictions to a CSV file\n",
        "output_file_path = '/content/test_predictions.csv'\n",
        "test_pred_df.to_csv(output_file_path, index=False)\n",
        "print(f\"Predictions saved to {output_file_path}\")"
      ],
      "metadata": {
        "colab": {
          "base_uri": "https://localhost:8080/"
        },
        "id": "Zo8FJY-i8zZK",
        "outputId": "b030bde0-46d7-4991-ccf1-22ff527c910d"
      },
      "execution_count": null,
      "outputs": [
        {
          "output_type": "stream",
          "name": "stdout",
          "text": [
            "Predictions saved to /content/test_predictions.csv\n"
          ]
        }
      ]
    },
    {
      "cell_type": "code",
      "source": [
        "df = pd.read_csv('/content/test_predictions.csv')\n",
        "print(df.head())"
      ],
      "metadata": {
        "colab": {
          "base_uri": "https://localhost:8080/"
        },
        "id": "-et7RZb89LK6",
        "outputId": "89efc215-262b-4e3c-9358-73ec998df8a9"
      },
      "execution_count": null,
      "outputs": [
        {
          "output_type": "stream",
          "name": "stdout",
          "text": [
            "   reactivity  deg_Mg_pH10  deg_pH10  deg_Mg_50C   deg_50C            id\n",
            "0    0.431237     0.483657  0.443725    0.424505  0.409333  id_00073f8be\n",
            "1    0.469506     0.538078  0.461687    0.463949  0.438194  id_000ae4237\n",
            "2    0.437343     0.467953  0.464754    0.468155  0.451226  id_00131c573\n",
            "3    0.304229     0.385591  0.395364    0.315947  0.306997  id_00181fd34\n",
            "4    0.145027     0.237169  0.199008    0.120045  0.090763  id_0020473f7\n"
          ]
        }
      ]
    },
    {
      "cell_type": "code",
      "source": [],
      "metadata": {
        "id": "eRluNt5UdBz_"
      },
      "execution_count": null,
      "outputs": []
    }
  ]
}